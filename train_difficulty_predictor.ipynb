{
 "cells": [
  {
   "cell_type": "markdown",
   "id": "a9be5dc3",
   "metadata": {},
   "source": [
    "# 📊 Train Difficulty Predictor\n",
    "This notebook trains a model to classify game difficulty (easy/medium/hard) based on gameplay data."
   ]
  },
  {
   "cell_type": "code",
   "execution_count": null,
   "id": "5237f93b",
   "metadata": {},
   "outputs": [],
   "source": [
    "import pandas as pd\n",
    "from sklearn.ensemble import RandomForestClassifier\n",
    "from sklearn.model_selection import train_test_split\n",
    "from sklearn.metrics import accuracy_score, classification_report\n",
    "import joblib"
   ]
  },
  {
   "cell_type": "code",
   "execution_count": null,
   "id": "ae455f32",
   "metadata": {},
   "outputs": [],
   "source": [
    "# Load the dataset\n",
    "df = pd.read_csv(\"game_stats.csv\")\n",
    "df.head()"
   ]
  },
  {
   "cell_type": "code",
   "execution_count": null,
   "id": "899e1374",
   "metadata": {},
   "outputs": [],
   "source": [
    "# Define difficulty labels based on time_taken and guesses_used\n",
    "def label_difficulty(row):\n",
    "    if row['time_taken'] <= 30 and row['guesses_used'] <= 5:\n",
    "        return 'easy'\n",
    "    elif row['time_taken'] <= 60:\n",
    "        return 'medium'\n",
    "    else:\n",
    "        return 'hard'\n",
    "\n",
    "df['difficulty_label'] = df.apply(label_difficulty, axis=1)\n",
    "df[['time_taken', 'guesses_used', 'difficulty_label']].head()"
   ]
  },
  {
   "cell_type": "code",
   "execution_count": null,
   "id": "10ed2002",
   "metadata": {},
   "outputs": [],
   "source": [
    "# Features and target\n",
    "features = ['time_taken', 'guesses_used', 'hints_used', 'code_length', 'allow_duplicates']\n",
    "X = df[features]\n",
    "y = df['difficulty_label']\n",
    "\n",
    "# Convert boolean to int\n",
    "X['allow_duplicates'] = X['allow_duplicates'].astype(int)"
   ]
  },
  {
   "cell_type": "code",
   "execution_count": null,
   "id": "fa44b715",
   "metadata": {},
   "outputs": [],
   "source": [
    "# Train/test split\n",
    "X_train, X_test, y_train, y_test = train_test_split(X, y, test_size=0.2, random_state=42)\n",
    "\n",
    "# Train classifier\n",
    "model = RandomForestClassifier(n_estimators=100, random_state=42)\n",
    "model.fit(X_train, y_train)"
   ]
  },
  {
   "cell_type": "code",
   "execution_count": null,
   "id": "dbbad646",
   "metadata": {},
   "outputs": [],
   "source": [
    "# Evaluate model\n",
    "predictions = model.predict(X_test)\n",
    "print(\"Accuracy:\", accuracy_score(y_test, predictions))\n",
    "print(\"Classification Report:\\n\", classification_report(y_test, predictions))"
   ]
  },
  {
   "cell_type": "code",
   "execution_count": null,
   "id": "f056d47c",
   "metadata": {},
   "outputs": [],
   "source": [
    "# Save model\n",
    "joblib.dump(model, \"difficulty_predictor.pkl\")\n",
    "print(\"Model saved as difficulty_predictor.pkl\")"
   ]
  }
 ],
 "metadata": {},
 "nbformat": 4,
 "nbformat_minor": 5
}